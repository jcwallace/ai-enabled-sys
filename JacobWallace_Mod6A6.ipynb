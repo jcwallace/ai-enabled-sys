{
 "cells": [
  {
   "cell_type": "markdown",
   "id": "77956896-4dd0-4fc3-af7c-d10b9d77fc8e",
   "metadata": {},
   "source": [
    "# Assignment 6\n",
    "## Jacob Wallace"
   ]
  },
  {
   "cell_type": "code",
   "execution_count": 1,
   "id": "71e6ac95-bd89-4a30-838f-3bcdcb64b688",
   "metadata": {},
   "outputs": [],
   "source": [
    "## Imports\n",
    "from py2neo import Graph\n",
    "from pymongo import MongoClient"
   ]
  },
  {
   "cell_type": "markdown",
   "id": "0af2204d",
   "metadata": {},
   "source": [
    "### Neo4j"
   ]
  },
  {
   "cell_type": "code",
   "execution_count": 2,
   "id": "3a88a6af-b208-4c8e-8bfb-ecc8a060e940",
   "metadata": {},
   "outputs": [],
   "source": [
    "graph = Graph('bolt://127.0.0.1:7687', user=\"neo4j\", password=\"secret\")"
   ]
  },
  {
   "cell_type": "markdown",
   "id": "0618dc16",
   "metadata": {},
   "source": [
    "#### 1"
   ]
  },
  {
   "cell_type": "code",
   "execution_count": 3,
   "id": "66b4fbce-83cb-425a-9e3c-5a494dc7df09",
   "metadata": {},
   "outputs": [
    {
     "data": {
      "text/html": [
       "<table><tr><th>nodes</th><th>relationships</th></tr><tr><td style=\"text-align:left\">[(_-1:Person {constraints: [], indexes: [], name: &#039;Person&#039;})]</td><td style=\"text-align:left\">[(_-1)-[:Date {}]-&gt;(_-1)]</td></tr></table>"
      ],
      "text/plain": [
       " nodes                                                         | relationships             \n",
       "---------------------------------------------------------------|---------------------------\n",
       " [(_-1:Person {constraints: [], indexes: [], name: 'Person'})] | [(_-1)-[:Date {}]->(_-1)] "
      ]
     },
     "execution_count": 3,
     "metadata": {},
     "output_type": "execute_result"
    }
   ],
   "source": [
    "cypher = \"CALL db.schema.visualization\"\n",
    "graph.run(cypher)"
   ]
  },
  {
   "cell_type": "markdown",
   "id": "7894fe9a",
   "metadata": {},
   "source": [
    "#### 2"
   ]
  },
  {
   "cell_type": "code",
   "execution_count": 6,
   "id": "c117345e",
   "metadata": {},
   "outputs": [
    {
     "data": {
      "text/html": [
       "<table><tr><th>RatioFemale2Male</th></tr><tr><td style=\"text-align:right\">1.0223880597014925</td></tr></table>"
      ],
      "text/plain": [
       "   RatioFemale2Male \n",
       "--------------------\n",
       " 1.0223880597014925 "
      ]
     },
     "execution_count": 6,
     "metadata": {},
     "output_type": "execute_result"
    }
   ],
   "source": [
    "cypher = \"MATCH (male:Person {gender: 0}),(female:Person {gender:1}) RETURN toFloat(count(distinct female))/toFloat(count(distinct male)) as RatioFemale2Male\"\n",
    "graph.run(cypher)"
   ]
  },
  {
   "cell_type": "markdown",
   "id": "7670deb7",
   "metadata": {},
   "source": [
    "#### 3"
   ]
  },
  {
   "cell_type": "code",
   "execution_count": 13,
   "id": "0c2101b8",
   "metadata": {},
   "outputs": [
    {
     "data": {
      "text/html": [
       "<table><tr><th>matched</th><th>total</th><th>percentMatched</th></tr><tr><td style=\"text-align:right\">1342</td><td style=\"text-align:right\">8148</td><td style=\"text-align:right\">16.47029945999018</td></tr></table>"
      ],
      "text/plain": [
       " matched | total |    percentMatched \n",
       "---------|-------|-------------------\n",
       "    1342 |  8148 | 16.47029945999018 "
      ]
     },
     "execution_count": 13,
     "metadata": {},
     "output_type": "execute_result"
    }
   ],
   "source": [
    "cypher = \"MATCH (:Person)-[d:Date]->(:Person), (:Person)-[matches:Date {match: 1}]->(:Person) WITH count(distinct d) as total, count(distinct matches) as matched RETURN matched, total, toFloat(matched)/total*100 as percentMatched\"\n",
    "graph.run(cypher)"
   ]
  },
  {
   "cell_type": "markdown",
   "id": "9af8b9d5",
   "metadata": {},
   "source": [
    "Columns that would impact a succesful match would be intCorr and the ageDiff. ageDiff for obvious reasons is a larger impact being the larger value here the less likely the successful match. intCorr I believe to be the Person's likelyhood to go on a second date with the end node Person. So if the intCorr is positive both ways I believe that would lead to a succesful match"
   ]
  },
  {
   "cell_type": "markdown",
   "id": "46ac4962",
   "metadata": {},
   "source": [
    "### MongoDB"
   ]
  },
  {
   "cell_type": "markdown",
   "id": "eeaa939b",
   "metadata": {},
   "source": [
    "#### 1\n",
    "```\n",
    "test> show databases\n",
    "admin        40.00 KiB\n",
    "config       12.00 KiB\n",
    "local        40.00 KiB\n",
    "speeddating   3.99 MiB\n",
    "```"
   ]
  },
  {
   "cell_type": "markdown",
   "id": "4b36e79e",
   "metadata": {},
   "source": [
    "#### 2\n",
    "```\n",
    "test> use speeddating\n",
    "switched to db speeddating\n",
    "```"
   ]
  },
  {
   "cell_type": "markdown",
   "id": "0dc60f2c",
   "metadata": {},
   "source": [
    "#### 3\n",
    "```\n",
    "speeddating> show collections\n",
    "events\n",
    "```"
   ]
  },
  {
   "cell_type": "markdown",
   "id": "9c416c27",
   "metadata": {},
   "source": [
    "#### 4\n",
    "```\n",
    "speeddating> db.events.findOne()\n",
    "{\n",
    "  _id: ObjectId(\"634212449bf8775643fccf81\"),\n",
    "  gender: 'female',\n",
    "  age: 21,\n",
    "  age_o: 22,\n",
    "  d_age: 1,\n",
    "  d_d_age: '[0-1]',\n",
    "  race: \"'Asian/Pacific Islander/Asian-American'\",\n",
    "  race_o: 'European/Caucasian-American',\n",
    "  samerace: 0,\n",
    "  importance_same_race: 2,\n",
    "  importance_same_religion: 4,\n",
    "  d_importance_same_race: '[2-5]',\n",
    "  d_importance_same_religion: '[2-5]',\n",
    "  field: 'Law',\n",
    "  pref_o_attractive: 60,\n",
    "  pref_o_sincere: 0,\n",
    "  pref_o_intelligence: 0,\n",
    "  pref_o_funny: 40,\n",
    "  pref_o_ambitious: 0,\n",
    "  pref_o_shared_interests: 0,\n",
    "  d_pref_o_attractive: '[21-100]',\n",
    "  d_pref_o_sincere: '[0-15]',\n",
    "  d_pref_o_intelligence: '[0-15]',\n",
    "  d_pref_o_funny: '[21-100]',\n",
    "  d_pref_o_ambitious: '[0-15]',\n",
    "  d_pref_o_shared_interests: '[0-15]',\n",
    "  attractive_o: 7,\n",
    "  sinsere_o: 8,\n",
    "  intelligence_o: 10,\n",
    "  funny_o: 7,\n",
    "  ambitous_o: 7,\n",
    "  shared_interests_o: 5,\n",
    "  d_attractive_o: '[6-8]',\n",
    "  d_sinsere_o: '[6-8]',\n",
    "  d_intelligence_o: '[9-10]',\n",
    "  d_funny_o: '[6-8]',\n",
    "  d_ambitous_o: '[6-8]',\n",
    "  d_shared_interests_o: '[0-5]',\n",
    "  attractive_important: 15,\n",
    "  sincere_important: 20,\n",
    "  intellicence_important: 20,\n",
    "  funny_important: 15,\n",
    "  ambtition_important: 15,\n",
    "  shared_interests_important: 15,\n",
    "  d_attractive_important: '[0-15]',\n",
    "  d_sincere_important: '[16-20]',\n",
    "  d_intellicence_important: '[16-20]',\n",
    "  d_funny_important: '[0-15]',\n",
    "  d_ambtition_important: '[0-15]',\n",
    "  d_shared_interests_important: '[0-15]',\n",
    "  attractive: 6,\n",
    "  sincere: 8,\n",
    "  intelligence: 8,\n",
    "  funny: 8,\n",
    "  ambition: 7,\n",
    "  d_attractive: '[6-8]',\n",
    "  d_sincere: '[6-8]',\n",
    "  d_intelligence: '[6-8]',\n",
    "  d_funny: '[6-8]',\n",
    "  d_ambition: '[6-8]',\n",
    "  attractive_partner: 7,\n",
    "  sincere_partner: 8,\n",
    "  intelligence_partner: 7,\n",
    "  funny_partner: 8,\n",
    "  ambition_partner: 5,\n",
    "  shared_interests_partner: 6,\n",
    "  d_attractive_partner: '[6-8]',\n",
    "  d_sincere_partner: '[6-8]',\n",
    "  d_intelligence_partner: '[6-8]',\n",
    "  d_funny_partner: '[6-8]',\n",
    "  d_ambition_partner: '[0-5]',\n",
    "  d_shared_interests_partner: '[6-8]',\n",
    "  sports: 9,\n",
    "  tvsports: 2,\n",
    "  exercise: 8,\n",
    "  dining: 9,\n",
    "  museums: 1,\n",
    "  art: 1,\n",
    "  hiking: 5,\n",
    "  gaming: 1,\n",
    "  clubbing: 5,\n",
    "  reading: 6,\n",
    "  tv: 9,\n",
    "  theater: 1,\n",
    "  movies: 10,\n",
    "  concerts: 10,\n",
    "  music: 9,\n",
    "  shopping: 8,\n",
    "  yoga: 1,\n",
    "  d_sports: '[9-10]',\n",
    "  d_tvsports: '[0-5]',\n",
    "  d_exercise: '[6-8]',\n",
    "  d_dining: '[9-10]',\n",
    "  d_museums: '[0-5]',\n",
    "  d_art: '[0-5]',\n",
    "  d_hiking: '[0-5]',\n",
    "  d_gaming: '[0-5]',\n",
    "  d_clubbing: '[0-5]',\n",
    "  d_reading: '[6-8]',\n",
    "  d_tv: '[9-10]',\n",
    "  d_theater: '[0-5]',\n",
    "  d_movies: '[9-10]',\n",
    "  d_concerts: '[9-10]',\n",
    "  d_music: '[9-10]',\n",
    "  d_shopping: '[6-8]',\n",
    "  d_yoga: '[0-5]',\n",
    "  interests_correlate: 0.54,\n",
    "  d_interests_correlate: '[0.33-1]',\n",
    "  expected_happy_with_sd_people: 3,\n",
    "  expected_num_interested_in_me: 2,\n",
    "  expected_num_matches: 4,\n",
    "  d_expected_happy_with_sd_people: '[0-4]',\n",
    "  d_expected_num_interested_in_me: '[0-3]',\n",
    "  d_expected_num_matches: '[3-5]',\n",
    "  like: 7,\n",
    "  guess_prob_liked: 5,\n",
    "  d_like: '[6-8]',\n",
    "  d_guess_prob_liked: '[5-6]',\n",
    "  met: 1,\n",
    "  decision: 1,\n",
    "  decision_o: 0,\n",
    "  match: 0\n",
    "}\n",
    "```"
   ]
  },
  {
   "cell_type": "markdown",
   "id": "72815b2c",
   "metadata": {},
   "source": [
    "#### 5\n",
    "```\n",
    "speeddating> db.events.find( {match: 1} ).count()\n",
    "1380\n",
    "```"
   ]
  },
  {
   "cell_type": "markdown",
   "id": "2ae82490",
   "metadata": {},
   "source": [
    "Just remove ```.count()``` in order to get all matches and their data columns, too many results to show here"
   ]
  },
  {
   "cell_type": "markdown",
   "id": "9a88848c",
   "metadata": {},
   "source": [
    "### Compare & Contrast"
   ]
  },
  {
   "cell_type": "markdown",
   "id": "a6b0476d",
   "metadata": {},
   "source": [
    "- neo4j is great at querying and understanding relations in-terms of graphing immediate relations as well as multi-leveled relations deep breaking the data into a tree-like structure when viewing from a targeted node\n",
    "- neo4j however was difficult to first understand the query structure with cypher, but experience here would help tremendously\n",
    "- mongodb on the other hand was easy at first to query for being the closest to written word\n",
    "- mongodb seems to work primarly in json format which can be a positive or negative depending on your own application pipeline\n",
    "- both were easy to setup/access\n",
    "- mongodb had the more intuitive data import at the beginning\n",
    "- mongo seems to favor object style returns which would lean its hand to OOP"
   ]
  }
 ],
 "metadata": {
  "kernelspec": {
   "display_name": "Python 3.9.10 64-bit",
   "language": "python",
   "name": "python3"
  },
  "language_info": {
   "codemirror_mode": {
    "name": "ipython",
    "version": 3
   },
   "file_extension": ".py",
   "mimetype": "text/x-python",
   "name": "python",
   "nbconvert_exporter": "python",
   "pygments_lexer": "ipython3",
   "version": "3.9.10"
  },
  "vscode": {
   "interpreter": {
    "hash": "5947ab11aa91afdebed581b46ae670574dbdbbdd478d709f15487840c8e3fdf9"
   }
  }
 },
 "nbformat": 4,
 "nbformat_minor": 5
}
