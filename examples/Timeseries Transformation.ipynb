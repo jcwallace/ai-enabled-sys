{
 "cells": [
  {
   "cell_type": "markdown",
   "metadata": {},
   "source": [
    "Demonstration of Time Series Data Engineering with Pandas\n",
    "\n",
    "Demo File is a time series dataset of positive COVID tests in the state of Maryland \"MD_Positive_Test_Cases.csv\""
   ]
  },
  {
   "cell_type": "markdown",
   "metadata": {},
   "source": [
    "Create Panda Frames"
   ]
  },
  {
   "cell_type": "code",
   "execution_count": 1,
   "metadata": {
    "scrolled": true
   },
   "outputs": [
    {
     "name": "stdout",
     "output_type": "stream",
     "text": [
      "   month  day  cases\n",
      "0      7   27    399\n",
      "1      7   26   1179\n",
      "2      7   25   1004\n",
      "3      7   24   1224\n",
      "4      7   23   1203\n"
     ]
    }
   ],
   "source": [
    "# create date time features of a dataset\n",
    "from pandas import read_csv\n",
    "from pandas import DataFrame\n",
    "series = read_csv('MD_Positive_Test_Cases.csv', header=0, index_col=0, parse_dates=True, squeeze=True)\n",
    "dataframe = DataFrame()\n",
    "dataframe['month'] = [series.index[i].month for i in range(len(series))]\n",
    "dataframe['day'] = [series.index[i].day for i in range(len(series))]\n",
    "dataframe['cases'] = [series[i] for i in range(len(series))]\n",
    "print(dataframe.head(5))"
   ]
  },
  {
   "cell_type": "markdown",
   "metadata": {},
   "source": [
    "Demonstrate Lag Feature"
   ]
  },
  {
   "cell_type": "code",
   "execution_count": 2,
   "metadata": {},
   "outputs": [
    {
     "name": "stdout",
     "output_type": "stream",
     "text": [
      "      t-1   t+1\n",
      "0     NaN   399\n",
      "1   399.0  1179\n",
      "2  1179.0  1004\n",
      "3  1004.0  1224\n",
      "4  1224.0  1203\n"
     ]
    }
   ],
   "source": [
    "from pandas import read_csv\n",
    "from pandas import DataFrame\n",
    "from pandas import concat\n",
    "series = read_csv('MD_Positive_Test_Cases.csv', header=0, index_col=0)\n",
    "cases = DataFrame(series.values)\n",
    "dataframe = concat([cases.shift(1), cases], axis=1)\n",
    "dataframe.columns = ['t-1', 't+1']\n",
    "print(dataframe.head(5))"
   ]
  },
  {
   "cell_type": "markdown",
   "metadata": {},
   "source": [
    "Expanding Lag Window"
   ]
  },
  {
   "cell_type": "code",
   "execution_count": 3,
   "metadata": {},
   "outputs": [
    {
     "name": "stdout",
     "output_type": "stream",
     "text": [
      "      t-3     t-2     t-1   t+1\n",
      "0     NaN     NaN     NaN   399\n",
      "1     NaN     NaN   399.0  1179\n",
      "2     NaN   399.0  1179.0  1004\n",
      "3   399.0  1179.0  1004.0  1224\n",
      "4  1179.0  1004.0  1224.0  1203\n"
     ]
    }
   ],
   "source": [
    "from pandas import read_csv\n",
    "from pandas import DataFrame\n",
    "from pandas import concat\n",
    "series = read_csv('MD_Positive_Test_Cases.csv', header=0, index_col=0)\n",
    "cases = DataFrame(series.values)\n",
    "dataframe = concat([cases.shift(3), cases.shift(2), cases.shift(1), cases], axis=1)\n",
    "dataframe.columns = ['t-3', 't-2', 't-1', 't+1']\n",
    "print(dataframe.head(5))"
   ]
  },
  {
   "cell_type": "markdown",
   "metadata": {},
   "source": [
    "Rolling Window Statistics"
   ]
  },
  {
   "cell_type": "code",
   "execution_count": 4,
   "metadata": {},
   "outputs": [
    {
     "name": "stdout",
     "output_type": "stream",
     "text": [
      "   mean(t-2,t-1)   t+1\n",
      "0            NaN   399\n",
      "1            NaN  1179\n",
      "2          789.0  1004\n",
      "3         1091.5  1224\n",
      "4         1114.0  1203\n"
     ]
    }
   ],
   "source": [
    "from pandas import read_csv\n",
    "from pandas import DataFrame\n",
    "from pandas import concat\n",
    "series = read_csv('MD_Positive_Test_Cases.csv', header=0, index_col=0)\n",
    "cases = DataFrame(series.values)\n",
    "shifted = cases.shift(1)\n",
    "window = shifted.rolling(window=2)\n",
    "means = window.mean()\n",
    "dataframe = concat([means, cases], axis=1)\n",
    "dataframe.columns = ['mean(t-2,t-1)', 't+1']\n",
    "print(dataframe.head(5))"
   ]
  },
  {
   "cell_type": "markdown",
   "metadata": {},
   "source": [
    "Expanded Window Statistics"
   ]
  },
  {
   "cell_type": "code",
   "execution_count": 5,
   "metadata": {},
   "outputs": [
    {
     "name": "stdout",
     "output_type": "stream",
     "text": [
      "     min         mean     max     t+1\n",
      "0  399.0   399.000000   399.0  1179.0\n",
      "1  399.0   789.000000  1179.0  1004.0\n",
      "2  399.0   860.666667  1179.0  1224.0\n",
      "3  399.0   951.500000  1224.0  1203.0\n",
      "4  399.0  1001.800000  1224.0  1075.0\n"
     ]
    }
   ],
   "source": [
    "from pandas import read_csv\n",
    "from pandas import DataFrame\n",
    "from pandas import concat\n",
    "series = read_csv('MD_Positive_Test_Cases.csv', header=0, index_col=0)\n",
    "cases = DataFrame(series.values)\n",
    "window = cases.expanding()\n",
    "dataframe = concat([window.min(), window.mean(), window.max(), cases.shift(-1)], axis=1)\n",
    "dataframe.columns = ['min', 'mean', 'max', 't+1']\n",
    "print(dataframe.head(5))"
   ]
  },
  {
   "cell_type": "code",
   "execution_count": null,
   "metadata": {},
   "outputs": [],
   "source": []
  }
 ],
 "metadata": {
  "kernelspec": {
   "display_name": "Python 3",
   "language": "python",
   "name": "python3"
  },
  "language_info": {
   "codemirror_mode": {
    "name": "ipython",
    "version": 3
   },
   "file_extension": ".py",
   "mimetype": "text/x-python",
   "name": "python",
   "nbconvert_exporter": "python",
   "pygments_lexer": "ipython3",
   "version": "3.8.3"
  }
 },
 "nbformat": 4,
 "nbformat_minor": 4
}
